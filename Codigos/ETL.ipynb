{
 "cells": [
  {
   "cell_type": "markdown",
   "metadata": {},
   "source": [
    "# ETL (Extract-Transform-Load) (Extraer - Transformar - Cargar)\n",
    "##### Descripcion"
   ]
  },
  {
   "cell_type": "markdown",
   "metadata": {},
   "source": [
    "### Instalar librerias (No obligatorio)"
   ]
  },
  {
   "cell_type": "code",
   "execution_count": null,
   "metadata": {},
   "outputs": [],
   "source": [
    "import sys\n",
    "!{sys.executable} -m pip install numpy\n",
    "!{sys.executable} -m pip install pandas\n",
    "!{sys.executable} -m pip install matplotlib\n",
    "!{sys.executable} -m pip install unidecode"
   ]
  },
  {
   "cell_type": "markdown",
   "metadata": {},
   "source": [
    "### Importar librerias"
   ]
  },
  {
   "cell_type": "code",
   "execution_count": null,
   "metadata": {},
   "outputs": [],
   "source": [
    "import numpy as np\n",
    "import pandas as pd\n",
    "import glob\n",
    "import re\n",
    "from unidecode import unidecode "
   ]
  },
  {
   "cell_type": "markdown",
   "metadata": {},
   "source": [
    "### Extracción"
   ]
  },
  {
   "cell_type": "code",
   "execution_count": null,
   "metadata": {},
   "outputs": [],
   "source": [
    "path_datos = glob.glob(\"../Datos/Titulados-Ed-Superior-202*/*.csv\")\n",
    "datos = pd.DataFrame()\n",
    "lista_dataframes = []\n",
    "for path in path_datos:\n",
    "    dataframe = pd.read_csv(path,delimiter= \";\")\n",
    "    lista_dataframes.append(dataframe)\n",
    "datos = pd.concat(lista_dataframes,ignore_index= True)"
   ]
  },
  {
   "cell_type": "markdown",
   "metadata": {},
   "source": [
    "### Transformación "
   ]
  },
  {
   "cell_type": "code",
   "execution_count": null,
   "metadata": {},
   "outputs": [],
   "source": [
    "def limpieza_str(columna_sucia):\n",
    "    columna = columna_sucia.apply(lambda x: unidecode(x).replace(\" \", \"_\").replace(\"'\", \"\").replace(\".\", \"_\"))\n",
    "    columna_limpia = columna.str.replace(r\"_+\",\"_\", regex = True)\n",
    "    return columna_limpia"
   ]
  },
  {
   "cell_type": "code",
   "execution_count": null,
   "metadata": {},
   "outputs": [],
   "source": [
    "lista_col_drop = ['codigo_unico','mrun','sem_ing_carr_ori','sem_ing_carr_act','nomb_titulo_obtenido','nomb_grado_obtenido','fecha_obtencion_titulo','tipo_inst_1', 'tipo_inst_3',\n",
    "                'cod_carrera', 'nomb_carrera','nivel_carrera_1','dur_estudio_carr','dur_proceso_tit', 'dur_total_carr','provincia_sede','comuna_sede','version','tipo_plan_carr',\n",
    "                'area_cine_f_97','subarea_cine_f_97','area_cine_f_13', 'subarea_cine_f_13']\n",
    "datos = datos.drop(columns= lista_col_drop)\n"
   ]
  },
  {
   "cell_type": "code",
   "execution_count": null,
   "metadata": {},
   "outputs": [],
   "source": [
    "lista_col_limpiar = ['tipo_inst_2','nomb_inst','nomb_sede','region_sede','area_cineunesco', 'area_carrera_generica_n']\n",
    "for col_limpiar in lista_col_limpiar:\n",
    "    datos[f'{col_limpiar}'] = limpieza_str(datos[f'{col_limpiar}'])"
   ]
  },
  {
   "cell_type": "markdown",
   "metadata": {},
   "source": [
    "### Carga "
   ]
  },
  {
   "cell_type": "code",
   "execution_count": null,
   "metadata": {},
   "outputs": [],
   "source": [
    "path_csv = \"../Datos/Titulados_Ed_Superior.csv\"\n",
    "datos.to_csv(path_csv,index = False)"
   ]
  }
 ],
 "metadata": {
  "kernelspec": {
   "display_name": "Python 3",
   "language": "python",
   "name": "python3"
  },
  "language_info": {
   "codemirror_mode": {
    "name": "ipython",
    "version": 3
   },
   "file_extension": ".py",
   "mimetype": "text/x-python",
   "name": "python",
   "nbconvert_exporter": "python",
   "pygments_lexer": "ipython3",
   "version": "3.11.5"
  },
  "orig_nbformat": 4
 },
 "nbformat": 4,
 "nbformat_minor": 2
}
